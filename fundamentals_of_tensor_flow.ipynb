{
  "nbformat": 4,
  "nbformat_minor": 0,
  "metadata": {
    "colab": {
      "provenance": [],
      "authorship_tag": "ABX9TyPqVcyh2naeiI7gcWayReTo",
      "include_colab_link": true
    },
    "kernelspec": {
      "name": "python3",
      "display_name": "Python 3"
    },
    "language_info": {
      "name": "python"
    }
  },
  "cells": [
    {
      "cell_type": "markdown",
      "metadata": {
        "id": "view-in-github",
        "colab_type": "text"
      },
      "source": [
        "<a href=\"https://colab.research.google.com/github/Mon6789/Deep-learning-/blob/main/fundamentals_of_tensor_flow.ipynb\" target=\"_parent\"><img src=\"https://colab.research.google.com/assets/colab-badge.svg\" alt=\"Open In Colab\"/></a>"
      ]
    },
    {
      "cell_type": "code",
      "execution_count": null,
      "metadata": {
        "id": "pEudGC27kFHh"
      },
      "outputs": [],
      "source": [
        "import tensorflow as tf"
      ]
    },
    {
      "cell_type": "code",
      "source": [
        "constant_tensor=tf.constant([[5,9],[4,5]])"
      ],
      "metadata": {
        "id": "kZHCXhD-kiI0"
      },
      "execution_count": null,
      "outputs": []
    },
    {
      "cell_type": "markdown",
      "source": [],
      "metadata": {
        "id": "dMUUS_vhJoXb"
      }
    },
    {
      "cell_type": "code",
      "source": [
        "print(constant_tensor)"
      ],
      "metadata": {
        "colab": {
          "base_uri": "https://localhost:8080/"
        },
        "id": "Lrx4azLelAvF",
        "outputId": "03c9c34d-122d-46d1-b132-abacf782db07"
      },
      "execution_count": null,
      "outputs": [
        {
          "output_type": "stream",
          "name": "stdout",
          "text": [
            "tf.Tensor(\n",
            "[[5 9]\n",
            " [4 5]], shape=(2, 2), dtype=int32)\n"
          ]
        }
      ]
    },
    {
      "cell_type": "code",
      "source": [
        "variable_tensor=tf.Variable([[5,9],[4,5]])\n"
      ],
      "metadata": {
        "id": "E0k9He6JlKTU"
      },
      "execution_count": null,
      "outputs": []
    },
    {
      "cell_type": "code",
      "source": [
        "print(variable_tensor)"
      ],
      "metadata": {
        "colab": {
          "base_uri": "https://localhost:8080/"
        },
        "id": "MGFUNdSUlSbz",
        "outputId": "e12421aa-d01b-49eb-ecd7-0aea2e1fcc9a"
      },
      "execution_count": null,
      "outputs": [
        {
          "output_type": "stream",
          "name": "stdout",
          "text": [
            "<tf.Variable 'Variable:0' shape=(2, 2) dtype=int32, numpy=\n",
            "array([[5, 9],\n",
            "       [4, 5]], dtype=int32)>\n"
          ]
        }
      ]
    },
    {
      "cell_type": "markdown",
      "source": [
        "row concatenate\n"
      ],
      "metadata": {
        "id": "EjyTfk6_nRrc"
      }
    },
    {
      "cell_type": "code",
      "source": [
        "row_concatenate=tf.concat(values=[constant_tensor,variable_tensor],axis=0)"
      ],
      "metadata": {
        "id": "dfIM9g1PlbSz"
      },
      "execution_count": null,
      "outputs": []
    },
    {
      "cell_type": "code",
      "source": [
        "print( row_concatenate)"
      ],
      "metadata": {
        "colab": {
          "base_uri": "https://localhost:8080/"
        },
        "id": "ex6j6JtKmgEY",
        "outputId": "2fbb60b0-251d-4a78-f11c-a666e16bf709"
      },
      "execution_count": null,
      "outputs": [
        {
          "output_type": "stream",
          "name": "stdout",
          "text": [
            "tf.Tensor(\n",
            "[[5 9]\n",
            " [4 5]\n",
            " [5 9]\n",
            " [4 5]], shape=(4, 2), dtype=int32)\n"
          ]
        }
      ]
    },
    {
      "cell_type": "markdown",
      "source": [
        "colum concatenate\n"
      ],
      "metadata": {
        "id": "Xow3JA-znLmM"
      }
    },
    {
      "cell_type": "code",
      "source": [
        "column_concatenate=tf.concat(values=[constant_tensor,variable_tensor],axis=1)"
      ],
      "metadata": {
        "id": "-TGil60em1Ax"
      },
      "execution_count": null,
      "outputs": []
    },
    {
      "cell_type": "code",
      "source": [
        "print( column_concatenate)"
      ],
      "metadata": {
        "colab": {
          "base_uri": "https://localhost:8080/"
        },
        "id": "vBWiy0gzm8O7",
        "outputId": "b2a28b5c-4fe2-4925-804d-2e1dc00e2ff0"
      },
      "execution_count": null,
      "outputs": [
        {
          "output_type": "stream",
          "name": "stdout",
          "text": [
            "tf.Tensor(\n",
            "[[5 9 5 9]\n",
            " [4 5 4 5]], shape=(2, 4), dtype=int32)\n"
          ]
        }
      ]
    },
    {
      "cell_type": "markdown",
      "source": [
        "zero tensor"
      ],
      "metadata": {
        "id": "ZXzS2WRBpahT"
      }
    },
    {
      "cell_type": "code",
      "source": [
        "zeros=tf.zeros(shape=[2,2],dtype=tf.int32)"
      ],
      "metadata": {
        "id": "5CWCwy_JnAKT"
      },
      "execution_count": null,
      "outputs": []
    },
    {
      "cell_type": "code",
      "source": [
        "print(zeros)"
      ],
      "metadata": {
        "colab": {
          "base_uri": "https://localhost:8080/"
        },
        "id": "KiJ1KXrLoe8-",
        "outputId": "677a3ea9-7020-4b97-c974-42069e03dc72"
      },
      "execution_count": null,
      "outputs": [
        {
          "output_type": "stream",
          "name": "stdout",
          "text": [
            "tf.Tensor(\n",
            "[[0 0]\n",
            " [0 0]], shape=(2, 2), dtype=int32)\n"
          ]
        }
      ]
    },
    {
      "cell_type": "markdown",
      "source": [
        "one tensor\n"
      ],
      "metadata": {
        "id": "govuahLepgp7"
      }
    },
    {
      "cell_type": "code",
      "source": [
        "ones=tf.ones(shape=[5,3],dtype=tf.int32)"
      ],
      "metadata": {
        "id": "va3BqUJbpEgw"
      },
      "execution_count": null,
      "outputs": []
    },
    {
      "cell_type": "code",
      "source": [
        "print(ones)"
      ],
      "metadata": {
        "colab": {
          "base_uri": "https://localhost:8080/"
        },
        "id": "ygWwzoRIpNHi",
        "outputId": "23615463-7289-481e-d791-388c3101f04a"
      },
      "execution_count": null,
      "outputs": [
        {
          "output_type": "stream",
          "name": "stdout",
          "text": [
            "tf.Tensor(\n",
            "[[1 1 1]\n",
            " [1 1 1]\n",
            " [1 1 1]\n",
            " [1 1 1]\n",
            " [1 1 1]], shape=(5, 3), dtype=int32)\n"
          ]
        }
      ]
    },
    {
      "cell_type": "markdown",
      "source": [
        "tensor transpose\n"
      ],
      "metadata": {
        "id": "aAsW-hkAs4MJ"
      }
    },
    {
      "cell_type": "code",
      "source": [
        "transpose=tf.transpose(variable_tensor)\n",
        "print(variable_tensor)"
      ],
      "metadata": {
        "colab": {
          "base_uri": "https://localhost:8080/"
        },
        "id": "vOZig9NxpRPi",
        "outputId": "dffe64b2-9702-46f6-99fe-74f9383b8227"
      },
      "execution_count": null,
      "outputs": [
        {
          "output_type": "stream",
          "name": "stdout",
          "text": [
            "<tf.Variable 'Variable:0' shape=(2, 2) dtype=int32, numpy=\n",
            "array([[5, 9],\n",
            "       [4, 5]], dtype=int32)>\n"
          ]
        }
      ]
    },
    {
      "cell_type": "code",
      "source": [
        "print(transpose)"
      ],
      "metadata": {
        "colab": {
          "base_uri": "https://localhost:8080/"
        },
        "id": "bt2li3_frQfS",
        "outputId": "adaecfc3-3b5e-43e4-da9d-5ab0da894d4a"
      },
      "execution_count": null,
      "outputs": [
        {
          "output_type": "stream",
          "name": "stdout",
          "text": [
            "tf.Tensor(\n",
            "[[5 4]\n",
            " [9 5]], shape=(2, 2), dtype=int32)\n"
          ]
        }
      ]
    },
    {
      "cell_type": "markdown",
      "source": [
        "type conversion[change any data type]\n"
      ],
      "metadata": {
        "id": "aYoFWvnnsuCj"
      }
    },
    {
      "cell_type": "code",
      "source": [
        "tensor_casting=tf.cast(transpose,tf.float32)"
      ],
      "metadata": {
        "id": "tSkDz2jXrTkq"
      },
      "execution_count": null,
      "outputs": []
    },
    {
      "cell_type": "code",
      "source": [
        "print(tensor_casting)"
      ],
      "metadata": {
        "colab": {
          "base_uri": "https://localhost:8080/"
        },
        "id": "dEpWNRKYsU0b",
        "outputId": "dffed675-caf8-4c6b-a0ce-7975e3226ac7"
      },
      "execution_count": null,
      "outputs": [
        {
          "output_type": "stream",
          "name": "stdout",
          "text": [
            "tf.Tensor(\n",
            "[[5. 4.]\n",
            " [9. 5.]], shape=(2, 2), dtype=float32)\n"
          ]
        }
      ]
    },
    {
      "cell_type": "markdown",
      "source": [
        "reshape"
      ],
      "metadata": {
        "id": "nDjxaaroui9w"
      }
    },
    {
      "cell_type": "code",
      "source": [
        "reshape=tf.reshape( tensor=row_concatenate,shape=[1,8])"
      ],
      "metadata": {
        "id": "4e9RGnTlsnGC"
      },
      "execution_count": null,
      "outputs": []
    },
    {
      "cell_type": "code",
      "source": [
        "print(reshape)"
      ],
      "metadata": {
        "colab": {
          "base_uri": "https://localhost:8080/"
        },
        "id": "QGI-3O9RuFUN",
        "outputId": "2c122c6a-3b7d-4b47-d833-333866590f57"
      },
      "execution_count": null,
      "outputs": [
        {
          "output_type": "stream",
          "name": "stdout",
          "text": [
            "tf.Tensor([[5 9 4 5 5 9 4 5]], shape=(1, 8), dtype=int32)\n"
          ]
        }
      ]
    },
    {
      "cell_type": "markdown",
      "source": [
        "numpy to tensor\n"
      ],
      "metadata": {
        "id": "z8dLLNN5wSUi"
      }
    },
    {
      "cell_type": "code",
      "source": [
        "import numpy as np\n",
        "m=np.array([[3,2],[1,4]])"
      ],
      "metadata": {
        "id": "gGu0h71eudQw"
      },
      "execution_count": null,
      "outputs": []
    },
    {
      "cell_type": "code",
      "source": [
        "m"
      ],
      "metadata": {
        "colab": {
          "base_uri": "https://localhost:8080/"
        },
        "id": "jHVl1LekwGkV",
        "outputId": "61ac9785-deed-4a10-e49c-9431bddd97df"
      },
      "execution_count": null,
      "outputs": [
        {
          "output_type": "execute_result",
          "data": {
            "text/plain": [
              "array([[3, 2],\n",
              "       [1, 4]])"
            ]
          },
          "metadata": {},
          "execution_count": 21
        }
      ]
    },
    {
      "cell_type": "code",
      "source": [
        "tf.convert_to_tensor(m)"
      ],
      "metadata": {
        "colab": {
          "base_uri": "https://localhost:8080/"
        },
        "id": "PTGUC-8BwHUK",
        "outputId": "917082a6-f9d0-45bf-8903-cc96fdf28f08"
      },
      "execution_count": null,
      "outputs": [
        {
          "output_type": "execute_result",
          "data": {
            "text/plain": [
              "<tf.Tensor: shape=(2, 2), dtype=int64, numpy=\n",
              "array([[3, 2],\n",
              "       [1, 4]])>"
            ]
          },
          "metadata": {},
          "execution_count": 22
        }
      ]
    },
    {
      "cell_type": "code",
      "source": [
        "m=np.array([[0,0],[1,4.3]])"
      ],
      "metadata": {
        "id": "87R7d4h2wPxa"
      },
      "execution_count": null,
      "outputs": []
    },
    {
      "cell_type": "code",
      "source": [
        "tf.convert_to_tensor(m)"
      ],
      "metadata": {
        "colab": {
          "base_uri": "https://localhost:8080/"
        },
        "id": "aPHdmro3wgDa",
        "outputId": "7d380317-2f80-4a41-d80f-cdc511601ffb"
      },
      "execution_count": null,
      "outputs": [
        {
          "output_type": "execute_result",
          "data": {
            "text/plain": [
              "<tf.Tensor: shape=(2, 2), dtype=float64, numpy=\n",
              "array([[0. , 0. ],\n",
              "       [1. , 4.3]])>"
            ]
          },
          "metadata": {},
          "execution_count": 24
        }
      ]
    },
    {
      "cell_type": "code",
      "source": [],
      "metadata": {
        "id": "l9ImqdB1wjra"
      },
      "execution_count": null,
      "outputs": []
    }
  ]
}